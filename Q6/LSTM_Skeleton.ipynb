{
  "cells": [
    {
      "cell_type": "markdown",
      "metadata": {
        "id": "-ShLoND4kvBP"
      },
      "source": [
        "# TODO: Import the required libraries"
      ]
    },
    {
      "cell_type": "code",
      "execution_count": 25,
      "metadata": {
        "id": "JNm5tMT4owV2"
      },
      "outputs": [],
      "source": [
        "# TODO\n",
        "import os\n",
        "import numpy as np\n",
        "import tensorflow as tf\n",
        "import random\n",
        "import re\n",
        "from tensorflow.keras.preprocessing.text import Tokenizer\n",
        "from tensorflow.keras.preprocessing.sequence import pad_sequences\n",
        "from tensorflow.keras.layers import Embedding, LSTM, Dense, Dropout, Bidirectional\n",
        "from tensorflow.keras.models import Sequential\n",
        "from sklearn.model_selection import train_test_split\n",
        "import matplotlib.pyplot as plt"
      ]
    },
    {
      "cell_type": "markdown",
      "metadata": {
        "id": "Pc0lsInBt0hO"
      },
      "source": [
        "# Adding random seed"
      ]
    },
    {
      "cell_type": "code",
      "execution_count": 2,
      "metadata": {
        "id": "-fG-gUjRt9N-"
      },
      "outputs": [],
      "source": [
        "# Set environment variables\n",
        "os.environ['PYTHONHASHSEED'] = str(25)\n",
        "os.environ['TF_DETERMINISTIC_OPS'] = '1'\n",
        "os.environ['TF_CUDNN_DETERMINISTIC'] = '1'\n",
        "\n",
        "# Set seed values\n",
        "np.random.seed(25)\n",
        "tf.random.set_seed(25)\n",
        "random.seed(25)"
      ]
    },
    {
      "cell_type": "markdown",
      "metadata": {
        "id": "PA28CYq9kzYI"
      },
      "source": [
        "# TODO: Read and Preprocess the dataset"
      ]
    },
    {
      "cell_type": "code",
      "execution_count": 3,
      "metadata": {
        "id": "UF9gYFvBk4zQ"
      },
      "outputs": [],
      "source": [
        "path = './alice.txt'\n",
        "text = \"\"\n",
        "\n",
        "# TODO: Load and preprocess the text\n",
        "with open(path, 'r', encoding='utf-8') as file:\n",
        "    text = file.read().lower()\n",
        "    \n",
        "text = re.sub(r'[^\\w\\s]', '', text)\n"
      ]
    },
    {
      "cell_type": "code",
      "execution_count": 4,
      "metadata": {
        "id": "2UHmLguZRMUS"
      },
      "outputs": [
        {
          "name": "stdout",
          "output_type": "stream",
          "text": [
            "140269\n"
          ]
        }
      ],
      "source": [
        "print(len(text))"
      ]
    },
    {
      "cell_type": "markdown",
      "metadata": {
        "id": "76FWfPQnlCfT"
      },
      "source": [
        "# TODO: Using tokenizers"
      ]
    },
    {
      "cell_type": "code",
      "execution_count": 5,
      "metadata": {
        "id": "g8DkbTcZlDe6"
      },
      "outputs": [],
      "source": [
        "# TODO: Tokenize the text\n",
        "tokenizer = Tokenizer()\n",
        "tokenizer.fit_on_texts([text])\n",
        "total_words = len(tokenizer.word_index) + 1"
      ]
    },
    {
      "cell_type": "code",
      "execution_count": 6,
      "metadata": {
        "id": "66GlWnQmRPcx"
      },
      "outputs": [
        {
          "name": "stdout",
          "output_type": "stream",
          "text": [
            "2751\n"
          ]
        }
      ],
      "source": [
        "print(total_words)"
      ]
    },
    {
      "cell_type": "markdown",
      "metadata": {
        "id": "9f7lULFglL2S"
      },
      "source": [
        "# TODO: Feature Engineering"
      ]
    },
    {
      "cell_type": "code",
      "execution_count": 7,
      "metadata": {
        "id": "szpzGGFilQQF"
      },
      "outputs": [],
      "source": [
        "# TODO: Create input sequences\n",
        "input_sequences = []\n",
        "for line in text.split('\\n'):\n",
        "    token_list = tokenizer.texts_to_sequences([line])[0]\n",
        "    for i in range(1, len(token_list)):\n",
        "        n_gram_sequence = token_list[:i+1]\n",
        "        input_sequences.append(n_gram_sequence)\n",
        "\n",
        "\n",
        "# TODO: Pad sequences\n",
        "max_sequence_len = max([len(x) for x in input_sequences])\n",
        "input_sequences = pad_sequences(input_sequences, maxlen=max_sequence_len, padding='pre')\n"
      ]
    },
    {
      "cell_type": "code",
      "execution_count": 8,
      "metadata": {
        "id": "xznaaN41YXsK"
      },
      "outputs": [
        {
          "name": "stdout",
          "output_type": "stream",
          "text": [
            "23693\n"
          ]
        }
      ],
      "source": [
        "print(len(input_sequences))"
      ]
    },
    {
      "cell_type": "markdown",
      "metadata": {
        "id": "3Sx1nF7ClSwv"
      },
      "source": [
        "# TODO: Storing features and labels"
      ]
    },
    {
      "cell_type": "code",
      "execution_count": 16,
      "metadata": {
        "id": "U72XiieKlTAG"
      },
      "outputs": [
        {
          "name": "stdout",
          "output_type": "stream",
          "text": [
            "(18954, 15) (18954, 2751)\n",
            "(4739, 15) (4739, 2751)\n"
          ]
        }
      ],
      "source": [
        "# TODO: Create predictors and labels\n",
        "predictors, labels = input_sequences[:,:-1], input_sequences[:,-1]\n",
        "labels = tf.keras.utils.to_categorical(labels, num_classes=total_words)\n",
        "\n",
        "# TODO: Split the data into training and validation sets\n",
        "X_train, X_val, y_train, y_val = train_test_split(predictors, labels, test_size=0.2)\n",
        "\n",
        "print(X_train.shape, y_train.shape)\n",
        "print(X_val.shape, y_val.shape)"
      ]
    },
    {
      "cell_type": "markdown",
      "metadata": {
        "id": "J2D4YaQ2lWxh"
      },
      "source": [
        "# TODO: Building our model"
      ]
    },
    {
      "cell_type": "code",
      "execution_count": 26,
      "metadata": {
        "id": "x1-88fIblY1j"
      },
      "outputs": [
        {
          "ename": "NameError",
          "evalue": "name 'Bidirectional' is not defined",
          "output_type": "error",
          "traceback": [
            "\u001b[0;31m---------------------------------------------------------------------------\u001b[0m",
            "\u001b[0;31mNameError\u001b[0m                                 Traceback (most recent call last)",
            "Cell \u001b[0;32mIn[26], line 9\u001b[0m\n\u001b[1;32m      1\u001b[0m \u001b[38;5;66;03m# TODO: Build your model\u001b[39;00m\n\u001b[1;32m      2\u001b[0m \u001b[38;5;66;03m# model = Sequential([\u001b[39;00m\n\u001b[1;32m      3\u001b[0m \u001b[38;5;66;03m#     Embedding(total_words, 100, input_length=max_sequence_len - 1),\u001b[39;00m\n\u001b[1;32m      4\u001b[0m \u001b[38;5;66;03m#     LSTM(150),\u001b[39;00m\n\u001b[1;32m      5\u001b[0m \u001b[38;5;66;03m#     Dense(total_words, activation='softmax')\u001b[39;00m\n\u001b[1;32m      6\u001b[0m \u001b[38;5;66;03m# ])\u001b[39;00m\n\u001b[1;32m      7\u001b[0m model \u001b[38;5;241m=\u001b[39m Sequential([\n\u001b[1;32m      8\u001b[0m     Embedding(total_words, \u001b[38;5;241m100\u001b[39m, input_length\u001b[38;5;241m=\u001b[39mmax_sequence_len \u001b[38;5;241m-\u001b[39m \u001b[38;5;241m1\u001b[39m),\n\u001b[0;32m----> 9\u001b[0m     \u001b[43mBidirectional\u001b[49m(LSTM(\u001b[38;5;241m150\u001b[39m, return_sequences\u001b[38;5;241m=\u001b[39m\u001b[38;5;28;01mTrue\u001b[39;00m)),\n\u001b[1;32m     10\u001b[0m     Dropout(\u001b[38;5;241m0.5\u001b[39m),\n\u001b[1;32m     11\u001b[0m     LSTM(\u001b[38;5;241m100\u001b[39m),\n\u001b[1;32m     12\u001b[0m     Dense(total_words, activation\u001b[38;5;241m=\u001b[39m\u001b[38;5;124m'\u001b[39m\u001b[38;5;124msoftmax\u001b[39m\u001b[38;5;124m'\u001b[39m)\n\u001b[1;32m     13\u001b[0m ])\n\u001b[1;32m     14\u001b[0m model\u001b[38;5;241m.\u001b[39mcompile(loss\u001b[38;5;241m=\u001b[39m\u001b[38;5;124m'\u001b[39m\u001b[38;5;124mcategorical_crossentropy\u001b[39m\u001b[38;5;124m'\u001b[39m, optimizer\u001b[38;5;241m=\u001b[39m\u001b[38;5;124m'\u001b[39m\u001b[38;5;124madam\u001b[39m\u001b[38;5;124m'\u001b[39m, metrics\u001b[38;5;241m=\u001b[39m[\u001b[38;5;124m'\u001b[39m\u001b[38;5;124maccuracy\u001b[39m\u001b[38;5;124m'\u001b[39m])\n\u001b[1;32m     15\u001b[0m model\u001b[38;5;241m.\u001b[39msummary()\n",
            "\u001b[0;31mNameError\u001b[0m: name 'Bidirectional' is not defined"
          ]
        }
      ],
      "source": [
        "# TODO: Build your model\n",
        "# model = Sequential([\n",
        "#     Embedding(total_words, 100, input_length=max_sequence_len - 1),\n",
        "#     LSTM(150),\n",
        "#     Dense(total_words, activation='softmax')\n",
        "# ])\n",
        "model = Sequential([\n",
        "    Embedding(total_words, 100, input_length=max_sequence_len - 1),\n",
        "    Bidirectional(LSTM(150, return_sequences=True)),\n",
        "    Dropout(0.5),\n",
        "    LSTM(100),\n",
        "    Dense(total_words, activation='softmax')\n",
        "])\n",
        "model.compile(loss='categorical_crossentropy', optimizer='adam', metrics=['accuracy'])\n",
        "model.summary()"
      ]
    },
    {
      "cell_type": "markdown",
      "metadata": {
        "id": "mgqvWzdUleUE"
      },
      "source": [
        "# TODO: Model training"
      ]
    },
    {
      "cell_type": "code",
      "execution_count": 22,
      "metadata": {
        "id": "vhx4p1lWldOS"
      },
      "outputs": [
        {
          "name": "stdout",
          "output_type": "stream",
          "text": [
            "Epoch 1/20\n",
            "\u001b[1m593/593\u001b[0m \u001b[32m━━━━━━━━━━━━━━━━━━━━\u001b[0m\u001b[37m\u001b[0m \u001b[1m7s\u001b[0m 11ms/step - accuracy: 0.0548 - loss: 6.4597 - val_accuracy: 0.0667 - val_loss: 6.0054\n",
            "Epoch 2/20\n",
            "\u001b[1m593/593\u001b[0m \u001b[32m━━━━━━━━━━━━━━━━━━━━\u001b[0m\u001b[37m\u001b[0m \u001b[1m6s\u001b[0m 11ms/step - accuracy: 0.0664 - loss: 5.7636 - val_accuracy: 0.0853 - val_loss: 5.8673\n",
            "Epoch 3/20\n",
            "\u001b[1m593/593\u001b[0m \u001b[32m━━━━━━━━━━━━━━━━━━━━\u001b[0m\u001b[37m\u001b[0m \u001b[1m6s\u001b[0m 11ms/step - accuracy: 0.0908 - loss: 5.4975 - val_accuracy: 0.0960 - val_loss: 5.8032\n",
            "Epoch 4/20\n",
            "\u001b[1m593/593\u001b[0m \u001b[32m━━━━━━━━━━━━━━━━━━━━\u001b[0m\u001b[37m\u001b[0m \u001b[1m6s\u001b[0m 10ms/step - accuracy: 0.1055 - loss: 5.2349 - val_accuracy: 0.1083 - val_loss: 5.7496\n",
            "Epoch 5/20\n",
            "\u001b[1m593/593\u001b[0m \u001b[32m━━━━━━━━━━━━━━━━━━━━\u001b[0m\u001b[37m\u001b[0m \u001b[1m6s\u001b[0m 10ms/step - accuracy: 0.1254 - loss: 4.9831 - val_accuracy: 0.1175 - val_loss: 5.7201\n",
            "Epoch 6/20\n",
            "\u001b[1m593/593\u001b[0m \u001b[32m━━━━━━━━━━━━━━━━━━━━\u001b[0m\u001b[37m\u001b[0m \u001b[1m6s\u001b[0m 11ms/step - accuracy: 0.1421 - loss: 4.7569 - val_accuracy: 0.1270 - val_loss: 5.7093\n",
            "Epoch 7/20\n",
            "\u001b[1m593/593\u001b[0m \u001b[32m━━━━━━━━━━━━━━━━━━━━\u001b[0m\u001b[37m\u001b[0m \u001b[1m6s\u001b[0m 11ms/step - accuracy: 0.1547 - loss: 4.5195 - val_accuracy: 0.1325 - val_loss: 5.7313\n",
            "Epoch 8/20\n",
            "\u001b[1m593/593\u001b[0m \u001b[32m━━━━━━━━━━━━━━━━━━━━\u001b[0m\u001b[37m\u001b[0m \u001b[1m7s\u001b[0m 11ms/step - accuracy: 0.1702 - loss: 4.3133 - val_accuracy: 0.1332 - val_loss: 5.7540\n",
            "Epoch 9/20\n",
            "\u001b[1m593/593\u001b[0m \u001b[32m━━━━━━━━━━━━━━━━━━━━\u001b[0m\u001b[37m\u001b[0m \u001b[1m7s\u001b[0m 11ms/step - accuracy: 0.1883 - loss: 4.1299 - val_accuracy: 0.1433 - val_loss: 5.7999\n",
            "Epoch 10/20\n",
            "\u001b[1m593/593\u001b[0m \u001b[32m━━━━━━━━━━━━━━━━━━━━\u001b[0m\u001b[37m\u001b[0m \u001b[1m7s\u001b[0m 11ms/step - accuracy: 0.2075 - loss: 3.9381 - val_accuracy: 0.1412 - val_loss: 5.8563\n",
            "Epoch 11/20\n",
            "\u001b[1m593/593\u001b[0m \u001b[32m━━━━━━━━━━━━━━━━━━━━\u001b[0m\u001b[37m\u001b[0m \u001b[1m6s\u001b[0m 11ms/step - accuracy: 0.2245 - loss: 3.7637 - val_accuracy: 0.1422 - val_loss: 5.9043\n",
            "Epoch 12/20\n",
            "\u001b[1m593/593\u001b[0m \u001b[32m━━━━━━━━━━━━━━━━━━━━\u001b[0m\u001b[37m\u001b[0m \u001b[1m6s\u001b[0m 11ms/step - accuracy: 0.2477 - loss: 3.5917 - val_accuracy: 0.1429 - val_loss: 5.9874\n",
            "Epoch 13/20\n",
            "\u001b[1m593/593\u001b[0m \u001b[32m━━━━━━━━━━━━━━━━━━━━\u001b[0m\u001b[37m\u001b[0m \u001b[1m7s\u001b[0m 11ms/step - accuracy: 0.2682 - loss: 3.4281 - val_accuracy: 0.1426 - val_loss: 6.0618\n",
            "Epoch 14/20\n",
            "\u001b[1m593/593\u001b[0m \u001b[32m━━━━━━━━━━━━━━━━━━━━\u001b[0m\u001b[37m\u001b[0m \u001b[1m6s\u001b[0m 11ms/step - accuracy: 0.2944 - loss: 3.2627 - val_accuracy: 0.1401 - val_loss: 6.1692\n",
            "Epoch 15/20\n",
            "\u001b[1m593/593\u001b[0m \u001b[32m━━━━━━━━━━━━━━━━━━━━\u001b[0m\u001b[37m\u001b[0m \u001b[1m6s\u001b[0m 11ms/step - accuracy: 0.3193 - loss: 3.1101 - val_accuracy: 0.1350 - val_loss: 6.2749\n",
            "Epoch 16/20\n",
            "\u001b[1m593/593\u001b[0m \u001b[32m━━━━━━━━━━━━━━━━━━━━\u001b[0m\u001b[37m\u001b[0m \u001b[1m6s\u001b[0m 11ms/step - accuracy: 0.3488 - loss: 2.9517 - val_accuracy: 0.1327 - val_loss: 6.3618\n",
            "Epoch 17/20\n",
            "\u001b[1m593/593\u001b[0m \u001b[32m━━━━━━━━━━━━━━━━━━━━\u001b[0m\u001b[37m\u001b[0m \u001b[1m6s\u001b[0m 11ms/step - accuracy: 0.3756 - loss: 2.7996 - val_accuracy: 0.1302 - val_loss: 6.4696\n",
            "Epoch 18/20\n",
            "\u001b[1m593/593\u001b[0m \u001b[32m━━━━━━━━━━━━━━━━━━━━\u001b[0m\u001b[37m\u001b[0m \u001b[1m7s\u001b[0m 12ms/step - accuracy: 0.4032 - loss: 2.6636 - val_accuracy: 0.1266 - val_loss: 6.5849\n",
            "Epoch 19/20\n",
            "\u001b[1m593/593\u001b[0m \u001b[32m━━━━━━━━━━━━━━━━━━━━\u001b[0m\u001b[37m\u001b[0m \u001b[1m7s\u001b[0m 12ms/step - accuracy: 0.4283 - loss: 2.5406 - val_accuracy: 0.1298 - val_loss: 6.6733\n",
            "Epoch 20/20\n",
            "\u001b[1m593/593\u001b[0m \u001b[32m━━━━━━━━━━━━━━━━━━━━\u001b[0m\u001b[37m\u001b[0m \u001b[1m7s\u001b[0m 12ms/step - accuracy: 0.4442 - loss: 2.4551 - val_accuracy: 0.1270 - val_loss: 6.7914\n"
          ]
        }
      ],
      "source": [
        "# TODO: Train your model\n",
        "history = model.fit(X_train, y_train, epochs=20, validation_data=(X_val, y_val))"
      ]
    },
    {
      "cell_type": "markdown",
      "metadata": {
        "id": "69szYwGslknP"
      },
      "source": [
        "# TODO: Visualising the Training and Validation Accuracies and Losses against the number of Epochs"
      ]
    },
    {
      "cell_type": "code",
      "execution_count": 23,
      "metadata": {
        "id": "ti0KtAsJllVB"
      },
      "outputs": [
        {
          "data": {
            "image/png": "[encoded data removed]",
            "text/plain": [
              "<Figure size 640x480 with 1 Axes>"
            ]
          },
          "metadata": {},
          "output_type": "display_data"
        },
        {
          "data": {
            "image/png": "[encoded data removed]",
            "text/plain": [
              "<Figure size 640x480 with 1 Axes>"
            ]
          },
          "metadata": {},
          "output_type": "display_data"
        }
      ],
      "source": [
        "# TODO: Plotting the training and validation loss and accuracy\n",
        "plt.plot(history.history['accuracy'])\n",
        "plt.plot(history.history['val_accuracy'])\n",
        "plt.title('Model Accuracy')\n",
        "plt.ylabel('Accuracy')\n",
        "plt.xlabel('Epoch')\n",
        "plt.legend(['Train', 'Val'], loc='upper left')\n",
        "plt.show()\n",
        "\n",
        "plt.plot(history.history['loss'])\n",
        "plt.plot(history.history['val_loss'])\n",
        "plt.title('Model Loss')\n",
        "plt.ylabel('Loss')\n",
        "plt.xlabel('Epoch')\n",
        "plt.legend(['Train', 'Val'], loc='upper left')\n",
        "plt.show()"
      ]
    },
    {
      "cell_type": "markdown",
      "metadata": {
        "id": "qMsd889wuvR4"
      },
      "source": [
        "# TODO: Generate text"
      ]
    },
    {
      "cell_type": "code",
      "execution_count": 20,
      "metadata": {
        "id": "SXHE7cU_uxRx"
      },
      "outputs": [
        {
          "name": "stdout",
          "output_type": "stream",
          "text": [
            "It is just what said alice because see being its change to\n"
          ]
        }
      ],
      "source": [
        "# TODO: Function to generate text\n",
        "def generate_text(seed_text, next_words, model, max_sequence_len, temperature):\n",
        "    # TODO\n",
        "    for _ in range(next_words):\n",
        "        token_list = tokenizer.texts_to_sequences([seed_text])[0]\n",
        "        token_list = pad_sequences([token_list], maxlen=max_sequence_len-1, padding='pre')\n",
        "        predicted = model.predict(token_list, verbose=0)[0]\n",
        "        predicted = np.log(predicted + 1e-10) / temperature  \n",
        "        predicted = np.exp(predicted) / np.sum(np.exp(predicted))\n",
        "        next_index = np.random.choice(range(len(predicted)), p=predicted)\n",
        "        next_word = tokenizer.index_word[next_index]\n",
        "        seed_text += \" \" + next_word\n",
        "    return seed_text\n",
        "\n",
        "# Generate text\n",
        "seed_text = \"It is\"\n",
        "next_words = 10\n",
        "temperature = 1.0\n",
        "generated_text = generate_text(seed_text, next_words, model, max_sequence_len, temperature)\n",
        "print(generated_text)"
      ]
    }
  ],
  "metadata": {
    "colab": {
      "provenance": []
    },
    "kernelspec": {
      "display_name": "Python 3",
      "name": "python3"
    },
    "language_info": {
      "name": "python"
    }
  },
  "nbformat": 4,
  "nbformat_minor": 0
}
