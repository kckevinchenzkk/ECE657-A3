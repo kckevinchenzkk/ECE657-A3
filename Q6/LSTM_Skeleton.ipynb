{
  "cells": [
    {
      "cell_type": "markdown",
      "metadata": {
        "id": "-ShLoND4kvBP"
      },
      "source": [
        "# TODO: Import the required libraries"
      ]
    },
    {
      "cell_type": "code",
      "execution_count": 1,
      "metadata": {
        "id": "JNm5tMT4owV2"
      },
      "outputs": [],
      "source": [
        "# TODO\n",
        "import os\n",
        "import numpy as np\n",
        "import tensorflow as tf\n",
        "import random\n",
        "import re\n",
        "from tensorflow.keras.preprocessing.text import Tokenizer\n",
        "from tensorflow.keras.preprocessing.sequence import pad_sequences\n",
        "from tensorflow.keras.layers import Embedding, LSTM, Dense, Dropout, Bidirectional, LayerNormalization\n",
        "from tensorflow.keras.models import Sequential\n",
        "from tensorflow.keras.regularizers import l2\n",
        "from tensorflow.keras.callbacks import EarlyStopping\n",
        "from sklearn.model_selection import train_test_split\n",
        "import matplotlib.pyplot as plt"
      ]
    },
    {
      "cell_type": "markdown",
      "metadata": {
        "id": "Pc0lsInBt0hO"
      },
      "source": [
        "# Adding random seed"
      ]
    },
    {
      "cell_type": "code",
      "execution_count": 2,
      "metadata": {
        "id": "-fG-gUjRt9N-"
      },
      "outputs": [],
      "source": [
        "# Set environment variables\n",
        "os.environ['PYTHONHASHSEED'] = str(25)\n",
        "os.environ['TF_DETERMINISTIC_OPS'] = '1'\n",
        "os.environ['TF_CUDNN_DETERMINISTIC'] = '1'\n",
        "\n",
        "# Set seed values\n",
        "np.random.seed(25)\n",
        "tf.random.set_seed(25)\n",
        "random.seed(25)"
      ]
    },
    {
      "cell_type": "markdown",
      "metadata": {
        "id": "PA28CYq9kzYI"
      },
      "source": [
        "# TODO: Read and Preprocess the dataset"
      ]
    },
    {
      "cell_type": "code",
      "execution_count": 3,
      "metadata": {
        "id": "UF9gYFvBk4zQ"
      },
      "outputs": [],
      "source": [
        "path = './alice.txt'\n",
        "text = \"\"\n",
        "\n",
        "# TODO: Load and preprocess the text\n",
        "with open(path, 'r', encoding='utf-8') as file:\n",
        "    text = file.read().lower()\n",
        "    \n",
        "text = re.sub(r'[^\\w\\s]', '', text)\n"
      ]
    },
    {
      "cell_type": "code",
      "execution_count": 4,
      "metadata": {
        "id": "2UHmLguZRMUS"
      },
      "outputs": [
        {
          "name": "stdout",
          "output_type": "stream",
          "text": [
            "140269\n"
          ]
        }
      ],
      "source": [
        "print(len(text))"
      ]
    },
    {
      "cell_type": "markdown",
      "metadata": {
        "id": "76FWfPQnlCfT"
      },
      "source": [
        "# TODO: Using tokenizers"
      ]
    },
    {
      "cell_type": "code",
      "execution_count": 5,
      "metadata": {
        "id": "g8DkbTcZlDe6"
      },
      "outputs": [],
      "source": [
        "# TODO: Tokenize the text\n",
        "tokenizer = Tokenizer()\n",
        "tokenizer.fit_on_texts([text])\n",
        "total_words = len(tokenizer.word_index) + 1"
      ]
    },
    {
      "cell_type": "code",
      "execution_count": 6,
      "metadata": {
        "id": "66GlWnQmRPcx"
      },
      "outputs": [
        {
          "name": "stdout",
          "output_type": "stream",
          "text": [
            "2751\n"
          ]
        }
      ],
      "source": [
        "print(total_words)"
      ]
    },
    {
      "cell_type": "markdown",
      "metadata": {
        "id": "9f7lULFglL2S"
      },
      "source": [
        "# TODO: Feature Engineering"
      ]
    },
    {
      "cell_type": "code",
      "execution_count": 7,
      "metadata": {
        "id": "szpzGGFilQQF"
      },
      "outputs": [],
      "source": [
        "# TODO: Create input sequences\n",
        "input_sequences = []\n",
        "for line in text.split('\\n'):\n",
        "    token_list = tokenizer.texts_to_sequences([line])[0]\n",
        "    for i in range(1, len(token_list)):\n",
        "        n_gram_sequence = token_list[:i+1]\n",
        "        input_sequences.append(n_gram_sequence)\n",
        "\n",
        "\n",
        "# TODO: Pad sequences\n",
        "max_sequence_len = max([len(x) for x in input_sequences])\n",
        "input_sequences = pad_sequences(input_sequences, maxlen=max_sequence_len, padding='pre')\n"
      ]
    },
    {
      "cell_type": "code",
      "execution_count": 8,
      "metadata": {
        "id": "xznaaN41YXsK"
      },
      "outputs": [
        {
          "name": "stdout",
          "output_type": "stream",
          "text": [
            "23693\n"
          ]
        }
      ],
      "source": [
        "print(len(input_sequences))"
      ]
    },
    {
      "cell_type": "markdown",
      "metadata": {
        "id": "3Sx1nF7ClSwv"
      },
      "source": [
        "# TODO: Storing features and labels"
      ]
    },
    {
      "cell_type": "code",
      "execution_count": 9,
      "metadata": {
        "id": "U72XiieKlTAG"
      },
      "outputs": [
        {
          "name": "stdout",
          "output_type": "stream",
          "text": [
            "(18954, 15) (18954, 2751)\n",
            "(4739, 15) (4739, 2751)\n"
          ]
        }
      ],
      "source": [
        "# TODO: Create predictors and labels\n",
        "predictors, labels = input_sequences[:,:-1], input_sequences[:,-1]\n",
        "labels = tf.keras.utils.to_categorical(labels, num_classes=total_words)\n",
        "\n",
        "# TODO: Split the data into training and validation sets\n",
        "X_train, X_val, y_train, y_val = train_test_split(predictors, labels, test_size=0.2)\n",
        "\n",
        "print(X_train.shape, y_train.shape)\n",
        "print(X_val.shape, y_val.shape)"
      ]
    },
    {
      "cell_type": "markdown",
      "metadata": {
        "id": "J2D4YaQ2lWxh"
      },
      "source": [
        "# TODO: Building our model"
      ]
    },
    {
      "cell_type": "code",
      "execution_count": 10,
      "metadata": {
        "id": "x1-88fIblY1j"
      },
      "outputs": [
        {
          "name": "stdout",
          "output_type": "stream",
          "text": [
            "Model: \"sequential\"\n",
            "_________________________________________________________________\n",
            " Layer (type)                Output Shape              Param #   \n",
            "=================================================================\n",
            " embedding (Embedding)       (None, 15, 100)           275100    \n",
            "                                                                 \n",
            " lstm (LSTM)                 (None, 150)               150600    \n",
            "                                                                 \n",
            " dropout (Dropout)           (None, 150)               0         \n",
            "                                                                 \n",
            " dense (Dense)               (None, 2751)              415401    \n",
            "                                                                 \n",
            "=================================================================\n",
            "Total params: 841101 (3.21 MB)\n",
            "Trainable params: 841101 (3.21 MB)\n",
            "Non-trainable params: 0 (0.00 Byte)\n",
            "_________________________________________________________________\n"
          ]
        }
      ],
      "source": [
        "# TODO: Build your model\n",
        "model = Sequential([\n",
        "    Embedding(total_words, 100, input_length=max_sequence_len - 1),\n",
        "    LSTM(150),\n",
        "    Dropout(0.4),\n",
        "    Dense(total_words, activation='softmax')\n",
        "])\n",
        "# model = Sequential([\n",
        "#     Embedding(total_words, 100, input_length=max_sequence_len - 1),\n",
        "#     Bidirectional(LSTM(100, return_sequences=True, kernel_regularizer=l2(0.01))),\n",
        "#     Dropout(0.5),\n",
        "#     LayerNormalization(),\n",
        "#     LSTM(100, kernel_regularizer=l2(0.01)),\n",
        "#     Dropout(0.5),\n",
        "#     Dense(total_words, activation='softmax')\n",
        "# ])\n",
        "# early_stopping = EarlyStopping(monitor='val_loss', patience=5, restore_best_weights=True)\n",
        "model.compile(loss='categorical_crossentropy', optimizer='adam', metrics=['accuracy'])\n",
        "model.summary()"
      ]
    },
    {
      "cell_type": "markdown",
      "metadata": {
        "id": "mgqvWzdUleUE"
      },
      "source": [
        "# TODO: Model training"
      ]
    },
    {
      "cell_type": "code",
      "execution_count": 11,
      "metadata": {
        "id": "vhx4p1lWldOS"
      },
      "outputs": [
        {
          "name": "stdout",
          "output_type": "stream",
          "text": [
            "Epoch 1/20\n",
            "593/593 [==============================] - 6s 10ms/step - loss: 6.1675 - accuracy: 0.0636 - val_loss: 6.0303 - val_accuracy: 0.0585\n",
            "Epoch 2/20\n",
            "593/593 [==============================] - 6s 10ms/step - loss: 5.8440 - accuracy: 0.0677 - val_loss: 5.9594 - val_accuracy: 0.0679\n",
            "Epoch 3/20\n",
            "593/593 [==============================] - 6s 10ms/step - loss: 5.6346 - accuracy: 0.0852 - val_loss: 5.8281 - val_accuracy: 0.0853\n",
            "Epoch 4/20\n",
            "593/593 [==============================] - 6s 11ms/step - loss: 5.4180 - accuracy: 0.1018 - val_loss: 5.7447 - val_accuracy: 0.1009\n",
            "Epoch 5/20\n",
            "593/593 [==============================] - 7s 11ms/step - loss: 5.2007 - accuracy: 0.1179 - val_loss: 5.6673 - val_accuracy: 0.1148\n",
            "Epoch 6/20\n",
            "593/593 [==============================] - 7s 12ms/step - loss: 4.9866 - accuracy: 0.1344 - val_loss: 5.6338 - val_accuracy: 0.1226\n",
            "Epoch 7/20\n",
            "593/593 [==============================] - 8s 13ms/step - loss: 4.7993 - accuracy: 0.1503 - val_loss: 5.6223 - val_accuracy: 0.1310\n",
            "Epoch 8/20\n",
            "593/593 [==============================] - 7s 12ms/step - loss: 4.6249 - accuracy: 0.1602 - val_loss: 5.6412 - val_accuracy: 0.1367\n",
            "Epoch 9/20\n",
            "593/593 [==============================] - 8s 13ms/step - loss: 4.4573 - accuracy: 0.1716 - val_loss: 5.6341 - val_accuracy: 0.1384\n",
            "Epoch 10/20\n",
            "593/593 [==============================] - 7s 12ms/step - loss: 4.2868 - accuracy: 0.1849 - val_loss: 5.6498 - val_accuracy: 0.1407\n",
            "Epoch 11/20\n",
            "593/593 [==============================] - 7s 11ms/step - loss: 4.1300 - accuracy: 0.1972 - val_loss: 5.6992 - val_accuracy: 0.1424\n",
            "Epoch 12/20\n",
            "593/593 [==============================] - 7s 12ms/step - loss: 3.9815 - accuracy: 0.2124 - val_loss: 5.7171 - val_accuracy: 0.1414\n",
            "Epoch 13/20\n",
            "593/593 [==============================] - 7s 12ms/step - loss: 3.8268 - accuracy: 0.2272 - val_loss: 5.7651 - val_accuracy: 0.1458\n",
            "Epoch 14/20\n",
            "593/593 [==============================] - 7s 12ms/step - loss: 3.6790 - accuracy: 0.2431 - val_loss: 5.8059 - val_accuracy: 0.1475\n",
            "Epoch 15/20\n",
            "593/593 [==============================] - 7s 13ms/step - loss: 3.5395 - accuracy: 0.2611 - val_loss: 5.8532 - val_accuracy: 0.1456\n",
            "Epoch 16/20\n",
            "593/593 [==============================] - 7s 12ms/step - loss: 3.4113 - accuracy: 0.2758 - val_loss: 5.9125 - val_accuracy: 0.1473\n",
            "Epoch 17/20\n",
            "593/593 [==============================] - 8s 14ms/step - loss: 3.2765 - accuracy: 0.3003 - val_loss: 5.9735 - val_accuracy: 0.1458\n",
            "Epoch 18/20\n",
            "593/593 [==============================] - 9s 14ms/step - loss: 3.1455 - accuracy: 0.3164 - val_loss: 6.0207 - val_accuracy: 0.1456\n",
            "Epoch 19/20\n",
            "593/593 [==============================] - 9s 14ms/step - loss: 3.0276 - accuracy: 0.3325 - val_loss: 6.0757 - val_accuracy: 0.1454\n",
            "Epoch 20/20\n",
            "593/593 [==============================] - 9s 15ms/step - loss: 2.9101 - accuracy: 0.3578 - val_loss: 6.1405 - val_accuracy: 0.1464\n"
          ]
        }
      ],
      "source": [
        "# TODO: Train your model\n",
        "history = model.fit(X_train, y_train, epochs=20, validation_data=(X_val, y_val))"
      ]
    },
    {
      "cell_type": "markdown",
      "metadata": {
        "id": "69szYwGslknP"
      },
      "source": [
        "# TODO: Visualising the Training and Validation Accuracies and Losses against the number of Epochs"
      ]
    },
    {
      "cell_type": "code",
      "execution_count": 12,
      "metadata": {
        "id": "ti0KtAsJllVB"
      },
      "outputs": [
        {
          "data": {
            "image/png": "[encoded data removed]",
            "text/plain": [
              "<Figure size 640x480 with 1 Axes>"
            ]
          },
          "metadata": {},
          "output_type": "display_data"
        },
        {
          "data": {
            "image/png": "[encoded data removed]",
            "text/plain": [
              "<Figure size 640x480 with 1 Axes>"
            ]
          },
          "metadata": {},
          "output_type": "display_data"
        }
      ],
      "source": [
        "# TODO: Plotting the training and validation loss and accuracy\n",
        "plt.plot(history.history['accuracy'])\n",
        "plt.plot(history.history['val_accuracy'])\n",
        "plt.title('Model Accuracy')\n",
        "plt.ylabel('Accuracy')\n",
        "plt.xlabel('Epoch')\n",
        "plt.legend(['Train', 'Val'], loc='upper left')\n",
        "plt.show()\n",
        "\n",
        "plt.plot(history.history['loss'])\n",
        "plt.plot(history.history['val_loss'])\n",
        "plt.title('Model Loss')\n",
        "plt.ylabel('Loss')\n",
        "plt.xlabel('Epoch')\n",
        "plt.legend(['Train', 'Val'], loc='upper left')\n",
        "plt.show()"
      ]
    },
    {
      "cell_type": "markdown",
      "metadata": {
        "id": "qMsd889wuvR4"
      },
      "source": [
        "# TODO: Generate text"
      ]
    },
    {
      "cell_type": "code",
      "execution_count": 32,
      "metadata": {
        "id": "SXHE7cU_uxRx"
      },
      "outputs": [
        {
          "name": "stdout",
          "output_type": "stream",
          "text": [
            "Forest is a little thing said the king and the hatter went\n"
          ]
        }
      ],
      "source": [
        "# TODO: Function to generate text\n",
        "def generate_text(seed_text, next_words, model, max_sequence_len, temperature):\n",
        "    # TODO\n",
        "    for _ in range(next_words):\n",
        "        token_list = tokenizer.texts_to_sequences([seed_text])[0]\n",
        "        token_list = pad_sequences([token_list], maxlen=max_sequence_len-1, padding='pre')\n",
        "        predicted = model.predict(token_list, verbose=0)[0]\n",
        "        predicted = np.log(predicted + 1e-10) / temperature  \n",
        "        predicted = np.exp(predicted) / np.sum(np.exp(predicted))\n",
        "        next_index = np.random.choice(range(len(predicted)), p=predicted)\n",
        "        next_word = tokenizer.index_word[next_index]\n",
        "        seed_text += \" \" + next_word\n",
        "    return seed_text\n",
        "\n",
        "# Generate text\n",
        "seed_text = \"Forest is\"\n",
        "next_words = 10\n",
        "temperature = 0.05\n",
        "generated_text = generate_text(seed_text, next_words, model, max_sequence_len, temperature)\n",
        "print(generated_text)"
      ]
    }
  ],
  "metadata": {
    "colab": {
      "provenance": []
    },
    "kernelspec": {
      "display_name": "Python 3",
      "name": "python3"
    },
    "language_info": {
      "name": "python"
    }
  },
  "nbformat": 4,
  "nbformat_minor": 0
}
